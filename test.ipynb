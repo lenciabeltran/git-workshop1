{
 "cells": [
  {
   "cell_type": "code",
   "execution_count": 1,
   "id": "6212f8da-c8ad-4ec3-985f-3cf10c2e5368",
   "metadata": {},
   "outputs": [],
   "source": [
    "total = 2"
   ]
  },
  {
   "cell_type": "code",
   "execution_count": 2,
   "id": "29a3abcb-eff2-4447-b23e-54ccfe9abaae",
   "metadata": {},
   "outputs": [
    {
     "name": "stdout",
     "output_type": "stream",
     "text": [
      "2\n"
     ]
    }
   ],
   "source": [
    "print(total)"
   ]
  }
 ],
 "metadata": {
  "kernelspec": {
   "display_name": "Python 3 (ipykernel)",
   "language": "python",
   "name": "python3"
  },
  "language_info": {
   "codemirror_mode": {
    "name": "ipython",
    "version": 3
   },
   "file_extension": ".py",
   "mimetype": "text/x-python",
   "name": "python",
   "nbconvert_exporter": "python",
   "pygments_lexer": "ipython3",
   "version": "3.9.12"
  }
 },
 "nbformat": 4,
 "nbformat_minor": 5
}
